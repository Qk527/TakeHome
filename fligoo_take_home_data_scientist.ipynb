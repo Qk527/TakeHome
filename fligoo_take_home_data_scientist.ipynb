{
 "cells": [
  {
   "cell_type": "markdown",
   "metadata": {},
   "source": [
    "# Fligoo: Take Home -  Data Science"
   ]
  },
  {
   "cell_type": "markdown",
   "metadata": {
    "heading_collapsed": true
   },
   "source": [
    "# The Hotel Bookings Data"
   ]
  },
  {
   "cell_type": "markdown",
   "metadata": {
    "hidden": true
   },
   "source": [
    "Let’s use hotel bookings data from [Antonio, Almeida, and Nunes (2019)](https://www.sciencedirect.com/science/article/pii/S2352340918315191?via%3Dihub) to predict which hotel stays included children and/or babies, based on the other characteristics of the stays such as which hotel the guests stay at, how much they pay, etc.\n",
    "\n",
    "<img src=\"https://s3-us-west-2.amazonaws.com/fligoo.data-science/TechInterviews/HotelBookings/header.png\"/>\n",
    "\n",
    "One of the hotels (H1) is a resort hotel and the other is a city hotel (H2). Both datasets share the same structure, with 23 variables describing the 19248 observations of H1 and 30752 observations of H2. Each observation represents a hotel booking. Both datasets comprehend bookings due to arrive between the 1st of July of 2015 and the 31st of August 2017, including bookings that effectively arrived and bookings that were canceled. Since this is hotel real data, all data elements pertaining hotel or costumer identification were deleted.\n",
    "\n",
    "**Take-Home Goals**\n",
    "- During **Part I** you should perform an Exploratory Data Analisys highlighting key findings:\n",
    "  - Data Quality Check: You must check the quality of the given dataset to make an assessment of how appropriate it is for later Data Science tasks. Propose a set of corrective actions over the data if any.\n",
    "  - Report insights and conclusions: Describe the results obtained during the exploratory analysis and provide conclusions from a business perspective, supported by charts / tables / metrics.\n",
    "- On **Part II** you should define and train a model to predict which actual hotel stays included children/babies, and which did not:\n",
    "  - Feature extraction: Indicate some possible candidates of features that could properly describe the hotels, either from the given columns or from their transformations.\n",
    "  - Machine Learning modeling: at least one fitted model with the given data. You could use the `children` column as target.\n",
    "- Finally, on **Part III** you should present the key findings, conclusions and results to non-technical stakeholders.\n",
    "  \n",
    "**Requirements**\n",
    "- Python 3.x & Pandas 1.x or R & Tidyverse & Tidymodels\n",
    "- Paying attention to the details and narrative is far way more important than extensive development.\n",
    "- Once you complete the assessment, please send a ZIP file of the folder with all the resources used in this work (e.g. Jupyter notebook, Python scripts, text files, images, etc) or share the repository link.\n",
    "- Have a final meeting with the team to discuss the work done in this notebook and answer the questions that could arise.\n",
    "- Finally, but most important: Have fun!\n",
    "\n",
    "**Nice to have aspects**\n",
    "- Dockerfile to setup environment / Conda environment for isolation.\n",
    "- Code versioning with Git (you are free to publish it on your own Github/Bitbucket account!).\n",
    "- Show proficiency in Python: By showing good practices in the structure and documentation, usage of several programming paradigms (e.g. imperative, OOP, functional), etc.\n"
   ]
  },
  {
   "cell_type": "markdown",
   "metadata": {
    "heading_collapsed": true
   },
   "source": [
    "# Libraries & Const"
   ]
  },
  {
   "cell_type": "code",
   "execution_count": 1,
   "metadata": {
    "hidden": true
   },
   "outputs": [],
   "source": [
    "#General purpose\n",
    "import pandas as pd"
   ]
  },
  {
   "cell_type": "code",
   "execution_count": 2,
   "metadata": {
    "hidden": true
   },
   "outputs": [],
   "source": [
    "path = 'https://s3-us-west-2.amazonaws.com/fligoo.data-science/TechInterviews/HotelBookings/'"
   ]
  },
  {
   "cell_type": "markdown",
   "metadata": {
    "heading_collapsed": true
   },
   "source": [
    "# Import data"
   ]
  },
  {
   "cell_type": "code",
   "execution_count": 3,
   "metadata": {
    "hidden": true
   },
   "outputs": [
    {
     "data": {
      "text/html": [
       "<div><div id=8b570569-1374-4b0f-a924-db80a49e0c9d style=\"display:none; background-color:#9D6CFF; color:white; width:200px; height:30px; padding-left:5px; border-radius:4px; flex-direction:row; justify-content:space-around; align-items:center;\" onmouseover=\"this.style.backgroundColor='#BA9BF8'\" onmouseout=\"this.style.backgroundColor='#9D6CFF'\" onclick=\"window.commands?.execute('create-mitosheet-from-dataframe-output');\">See Full Dataframe in Mito</div> <script> if (window.commands.hasCommand('create-mitosheet-from-dataframe-output')) document.getElementById('8b570569-1374-4b0f-a924-db80a49e0c9d').style.display = 'flex' </script> <table border=\"1\" class=\"dataframe\">\n",
       "  <thead>\n",
       "    <tr style=\"text-align: right;\">\n",
       "      <th></th>\n",
       "      <th>hotel</th>\n",
       "      <th>lead_time</th>\n",
       "      <th>stays_in_weekend_nights</th>\n",
       "      <th>stays_in_week_nights</th>\n",
       "      <th>adults</th>\n",
       "      <th>children</th>\n",
       "      <th>meal</th>\n",
       "      <th>country</th>\n",
       "      <th>market_segment</th>\n",
       "      <th>distribution_channel</th>\n",
       "      <th>...</th>\n",
       "      <th>reserved_room_type</th>\n",
       "      <th>assigned_room_type</th>\n",
       "      <th>booking_changes</th>\n",
       "      <th>deposit_type</th>\n",
       "      <th>days_in_waiting_list</th>\n",
       "      <th>customer_type</th>\n",
       "      <th>average_daily_rate</th>\n",
       "      <th>required_car_parking_spaces</th>\n",
       "      <th>total_of_special_requests</th>\n",
       "      <th>arrival_date</th>\n",
       "    </tr>\n",
       "  </thead>\n",
       "  <tbody>\n",
       "    <tr>\n",
       "      <th>0</th>\n",
       "      <td>City_Hotel</td>\n",
       "      <td>217</td>\n",
       "      <td>1</td>\n",
       "      <td>3</td>\n",
       "      <td>2</td>\n",
       "      <td>none</td>\n",
       "      <td>BB</td>\n",
       "      <td>DEU</td>\n",
       "      <td>Offline_TA/TO</td>\n",
       "      <td>TA/TO</td>\n",
       "      <td>...</td>\n",
       "      <td>A</td>\n",
       "      <td>A</td>\n",
       "      <td>0</td>\n",
       "      <td>No_Deposit</td>\n",
       "      <td>0</td>\n",
       "      <td>Transient-Party</td>\n",
       "      <td>80.75</td>\n",
       "      <td>none</td>\n",
       "      <td>1</td>\n",
       "      <td>2016-09-01</td>\n",
       "    </tr>\n",
       "    <tr>\n",
       "      <th>1</th>\n",
       "      <td>City_Hotel</td>\n",
       "      <td>2</td>\n",
       "      <td>0</td>\n",
       "      <td>1</td>\n",
       "      <td>2</td>\n",
       "      <td>none</td>\n",
       "      <td>BB</td>\n",
       "      <td>PRT</td>\n",
       "      <td>Direct</td>\n",
       "      <td>Direct</td>\n",
       "      <td>...</td>\n",
       "      <td>D</td>\n",
       "      <td>K</td>\n",
       "      <td>0</td>\n",
       "      <td>No_Deposit</td>\n",
       "      <td>0</td>\n",
       "      <td>Transient</td>\n",
       "      <td>170.00</td>\n",
       "      <td>none</td>\n",
       "      <td>3</td>\n",
       "      <td>2017-08-25</td>\n",
       "    </tr>\n",
       "    <tr>\n",
       "      <th>2</th>\n",
       "      <td>Resort_Hotel</td>\n",
       "      <td>95</td>\n",
       "      <td>2</td>\n",
       "      <td>5</td>\n",
       "      <td>2</td>\n",
       "      <td>none</td>\n",
       "      <td>BB</td>\n",
       "      <td>GBR</td>\n",
       "      <td>Online_TA</td>\n",
       "      <td>TA/TO</td>\n",
       "      <td>...</td>\n",
       "      <td>A</td>\n",
       "      <td>A</td>\n",
       "      <td>2</td>\n",
       "      <td>No_Deposit</td>\n",
       "      <td>0</td>\n",
       "      <td>Transient</td>\n",
       "      <td>8.00</td>\n",
       "      <td>none</td>\n",
       "      <td>2</td>\n",
       "      <td>2016-11-19</td>\n",
       "    </tr>\n",
       "    <tr>\n",
       "      <th>3</th>\n",
       "      <td>Resort_Hotel</td>\n",
       "      <td>143</td>\n",
       "      <td>2</td>\n",
       "      <td>6</td>\n",
       "      <td>2</td>\n",
       "      <td>none</td>\n",
       "      <td>HB</td>\n",
       "      <td>ROU</td>\n",
       "      <td>Online_TA</td>\n",
       "      <td>TA/TO</td>\n",
       "      <td>...</td>\n",
       "      <td>A</td>\n",
       "      <td>A</td>\n",
       "      <td>0</td>\n",
       "      <td>No_Deposit</td>\n",
       "      <td>0</td>\n",
       "      <td>Transient</td>\n",
       "      <td>81.00</td>\n",
       "      <td>none</td>\n",
       "      <td>1</td>\n",
       "      <td>2016-04-26</td>\n",
       "    </tr>\n",
       "    <tr>\n",
       "      <th>4</th>\n",
       "      <td>Resort_Hotel</td>\n",
       "      <td>136</td>\n",
       "      <td>1</td>\n",
       "      <td>4</td>\n",
       "      <td>2</td>\n",
       "      <td>none</td>\n",
       "      <td>HB</td>\n",
       "      <td>PRT</td>\n",
       "      <td>Direct</td>\n",
       "      <td>Direct</td>\n",
       "      <td>...</td>\n",
       "      <td>F</td>\n",
       "      <td>F</td>\n",
       "      <td>0</td>\n",
       "      <td>No_Deposit</td>\n",
       "      <td>0</td>\n",
       "      <td>Transient</td>\n",
       "      <td>157.60</td>\n",
       "      <td>none</td>\n",
       "      <td>4</td>\n",
       "      <td>2016-12-28</td>\n",
       "    </tr>\n",
       "  </tbody>\n",
       "</table></div>"
      ],
      "text/plain": [
       "          hotel  lead_time  stays_in_weekend_nights  stays_in_week_nights  \\\n",
       "0    City_Hotel        217                        1                     3   \n",
       "1    City_Hotel          2                        0                     1   \n",
       "2  Resort_Hotel         95                        2                     5   \n",
       "3  Resort_Hotel        143                        2                     6   \n",
       "4  Resort_Hotel        136                        1                     4   \n",
       "\n",
       "   adults children meal country market_segment distribution_channel  ...  \\\n",
       "0       2     none   BB     DEU  Offline_TA/TO                TA/TO  ...   \n",
       "1       2     none   BB     PRT         Direct               Direct  ...   \n",
       "2       2     none   BB     GBR      Online_TA                TA/TO  ...   \n",
       "3       2     none   HB     ROU      Online_TA                TA/TO  ...   \n",
       "4       2     none   HB     PRT         Direct               Direct  ...   \n",
       "\n",
       "   reserved_room_type  assigned_room_type  booking_changes deposit_type  \\\n",
       "0                   A                   A                0   No_Deposit   \n",
       "1                   D                   K                0   No_Deposit   \n",
       "2                   A                   A                2   No_Deposit   \n",
       "3                   A                   A                0   No_Deposit   \n",
       "4                   F                   F                0   No_Deposit   \n",
       "\n",
       "  days_in_waiting_list    customer_type average_daily_rate  \\\n",
       "0                    0  Transient-Party              80.75   \n",
       "1                    0        Transient             170.00   \n",
       "2                    0        Transient               8.00   \n",
       "3                    0        Transient              81.00   \n",
       "4                    0        Transient             157.60   \n",
       "\n",
       "   required_car_parking_spaces total_of_special_requests  arrival_date  \n",
       "0                         none                         1    2016-09-01  \n",
       "1                         none                         3    2017-08-25  \n",
       "2                         none                         2    2016-11-19  \n",
       "3                         none                         1    2016-04-26  \n",
       "4                         none                         4    2016-12-28  \n",
       "\n",
       "[5 rows x 23 columns]"
      ]
     },
     "execution_count": 3,
     "metadata": {},
     "output_type": "execute_result"
    }
   ],
   "source": [
    "hotels = pd.read_csv(path+'hotels.csv')\n",
    "hotels.head()"
   ]
  },
  {
   "cell_type": "markdown",
   "metadata": {},
   "source": [
    "# Part I - Exploratory Data Analisys"
   ]
  },
  {
   "cell_type": "code",
   "execution_count": 4,
   "metadata": {
    "scrolled": false
   },
   "outputs": [
    {
     "name": "stdout",
     "output_type": "stream",
     "text": [
      "<class 'pandas.core.frame.DataFrame'>\n",
      "RangeIndex: 50000 entries, 0 to 49999\n",
      "Data columns (total 23 columns):\n",
      " #   Column                          Non-Null Count  Dtype  \n",
      "---  ------                          --------------  -----  \n",
      " 0   hotel                           50000 non-null  object \n",
      " 1   lead_time                       50000 non-null  int64  \n",
      " 2   stays_in_weekend_nights         50000 non-null  int64  \n",
      " 3   stays_in_week_nights            50000 non-null  int64  \n",
      " 4   adults                          50000 non-null  int64  \n",
      " 5   children                        50000 non-null  object \n",
      " 6   meal                            50000 non-null  object \n",
      " 7   country                         49711 non-null  object \n",
      " 8   market_segment                  50000 non-null  object \n",
      " 9   distribution_channel            50000 non-null  object \n",
      " 10  is_repeated_guest               50000 non-null  int64  \n",
      " 11  previous_cancellations          50000 non-null  int64  \n",
      " 12  previous_bookings_not_canceled  50000 non-null  int64  \n",
      " 13  reserved_room_type              50000 non-null  object \n",
      " 14  assigned_room_type              50000 non-null  object \n",
      " 15  booking_changes                 50000 non-null  int64  \n",
      " 16  deposit_type                    50000 non-null  object \n",
      " 17  days_in_waiting_list            50000 non-null  int64  \n",
      " 18  customer_type                   50000 non-null  object \n",
      " 19  average_daily_rate              50000 non-null  float64\n",
      " 20  required_car_parking_spaces     50000 non-null  object \n",
      " 21  total_of_special_requests       50000 non-null  int64  \n",
      " 22  arrival_date                    50000 non-null  object \n",
      "dtypes: float64(1), int64(10), object(12)\n",
      "memory usage: 8.8+ MB\n"
     ]
    }
   ],
   "source": [
    "hotels.info()"
   ]
  },
  {
   "cell_type": "code",
   "execution_count": 5,
   "metadata": {},
   "outputs": [
    {
     "data": {
      "text/html": [
       "<div><div id=b16ee770-a86e-435d-b9ba-c63333920dee style=\"display:none; background-color:#9D6CFF; color:white; width:200px; height:30px; padding-left:5px; border-radius:4px; flex-direction:row; justify-content:space-around; align-items:center;\" onmouseover=\"this.style.backgroundColor='#BA9BF8'\" onmouseout=\"this.style.backgroundColor='#9D6CFF'\" onclick=\"window.commands?.execute('create-mitosheet-from-dataframe-output');\">See Full Dataframe in Mito</div> <script> if (window.commands.hasCommand('create-mitosheet-from-dataframe-output')) document.getElementById('b16ee770-a86e-435d-b9ba-c63333920dee').style.display = 'flex' </script> <table border=\"1\" class=\"dataframe\">\n",
       "  <thead>\n",
       "    <tr style=\"text-align: right;\">\n",
       "      <th></th>\n",
       "      <th>lead_time</th>\n",
       "      <th>stays_in_weekend_nights</th>\n",
       "      <th>stays_in_week_nights</th>\n",
       "      <th>adults</th>\n",
       "      <th>is_repeated_guest</th>\n",
       "      <th>previous_cancellations</th>\n",
       "      <th>previous_bookings_not_canceled</th>\n",
       "      <th>booking_changes</th>\n",
       "      <th>days_in_waiting_list</th>\n",
       "      <th>average_daily_rate</th>\n",
       "      <th>total_of_special_requests</th>\n",
       "    </tr>\n",
       "  </thead>\n",
       "  <tbody>\n",
       "    <tr>\n",
       "      <th>count</th>\n",
       "      <td>50000.000000</td>\n",
       "      <td>50000.000000</td>\n",
       "      <td>50000.000000</td>\n",
       "      <td>50000.000000</td>\n",
       "      <td>50000.000000</td>\n",
       "      <td>50000.000000</td>\n",
       "      <td>50000.000000</td>\n",
       "      <td>50000.000000</td>\n",
       "      <td>50000.0000</td>\n",
       "      <td>50000.000000</td>\n",
       "      <td>50000.000000</td>\n",
       "    </tr>\n",
       "    <tr>\n",
       "      <th>mean</th>\n",
       "      <td>80.094120</td>\n",
       "      <td>0.928520</td>\n",
       "      <td>2.464540</td>\n",
       "      <td>1.830280</td>\n",
       "      <td>0.043200</td>\n",
       "      <td>0.016740</td>\n",
       "      <td>0.202740</td>\n",
       "      <td>0.294960</td>\n",
       "      <td>1.5704</td>\n",
       "      <td>99.942342</td>\n",
       "      <td>0.712660</td>\n",
       "    </tr>\n",
       "    <tr>\n",
       "      <th>std</th>\n",
       "      <td>91.201362</td>\n",
       "      <td>0.996288</td>\n",
       "      <td>1.936176</td>\n",
       "      <td>0.509078</td>\n",
       "      <td>0.203309</td>\n",
       "      <td>0.287857</td>\n",
       "      <td>1.803691</td>\n",
       "      <td>0.740006</td>\n",
       "      <td>14.7903</td>\n",
       "      <td>49.039092</td>\n",
       "      <td>0.833804</td>\n",
       "    </tr>\n",
       "    <tr>\n",
       "      <th>min</th>\n",
       "      <td>0.000000</td>\n",
       "      <td>0.000000</td>\n",
       "      <td>0.000000</td>\n",
       "      <td>0.000000</td>\n",
       "      <td>0.000000</td>\n",
       "      <td>0.000000</td>\n",
       "      <td>0.000000</td>\n",
       "      <td>0.000000</td>\n",
       "      <td>0.0000</td>\n",
       "      <td>-6.380000</td>\n",
       "      <td>0.000000</td>\n",
       "    </tr>\n",
       "    <tr>\n",
       "      <th>25%</th>\n",
       "      <td>8.000000</td>\n",
       "      <td>0.000000</td>\n",
       "      <td>1.000000</td>\n",
       "      <td>2.000000</td>\n",
       "      <td>0.000000</td>\n",
       "      <td>0.000000</td>\n",
       "      <td>0.000000</td>\n",
       "      <td>0.000000</td>\n",
       "      <td>0.0000</td>\n",
       "      <td>67.500000</td>\n",
       "      <td>0.000000</td>\n",
       "    </tr>\n",
       "    <tr>\n",
       "      <th>50%</th>\n",
       "      <td>45.000000</td>\n",
       "      <td>1.000000</td>\n",
       "      <td>2.000000</td>\n",
       "      <td>2.000000</td>\n",
       "      <td>0.000000</td>\n",
       "      <td>0.000000</td>\n",
       "      <td>0.000000</td>\n",
       "      <td>0.000000</td>\n",
       "      <td>0.0000</td>\n",
       "      <td>92.500000</td>\n",
       "      <td>1.000000</td>\n",
       "    </tr>\n",
       "    <tr>\n",
       "      <th>75%</th>\n",
       "      <td>125.000000</td>\n",
       "      <td>2.000000</td>\n",
       "      <td>3.000000</td>\n",
       "      <td>2.000000</td>\n",
       "      <td>0.000000</td>\n",
       "      <td>0.000000</td>\n",
       "      <td>0.000000</td>\n",
       "      <td>0.000000</td>\n",
       "      <td>0.0000</td>\n",
       "      <td>125.000000</td>\n",
       "      <td>1.000000</td>\n",
       "    </tr>\n",
       "    <tr>\n",
       "      <th>max</th>\n",
       "      <td>709.000000</td>\n",
       "      <td>19.000000</td>\n",
       "      <td>50.000000</td>\n",
       "      <td>4.000000</td>\n",
       "      <td>1.000000</td>\n",
       "      <td>13.000000</td>\n",
       "      <td>72.000000</td>\n",
       "      <td>21.000000</td>\n",
       "      <td>379.0000</td>\n",
       "      <td>510.000000</td>\n",
       "      <td>5.000000</td>\n",
       "    </tr>\n",
       "  </tbody>\n",
       "</table></div>"
      ],
      "text/plain": [
       "          lead_time  stays_in_weekend_nights  stays_in_week_nights  \\\n",
       "count  50000.000000             50000.000000          50000.000000   \n",
       "mean      80.094120                 0.928520              2.464540   \n",
       "std       91.201362                 0.996288              1.936176   \n",
       "min        0.000000                 0.000000              0.000000   \n",
       "25%        8.000000                 0.000000              1.000000   \n",
       "50%       45.000000                 1.000000              2.000000   \n",
       "75%      125.000000                 2.000000              3.000000   \n",
       "max      709.000000                19.000000             50.000000   \n",
       "\n",
       "             adults  is_repeated_guest  previous_cancellations  \\\n",
       "count  50000.000000       50000.000000            50000.000000   \n",
       "mean       1.830280           0.043200                0.016740   \n",
       "std        0.509078           0.203309                0.287857   \n",
       "min        0.000000           0.000000                0.000000   \n",
       "25%        2.000000           0.000000                0.000000   \n",
       "50%        2.000000           0.000000                0.000000   \n",
       "75%        2.000000           0.000000                0.000000   \n",
       "max        4.000000           1.000000               13.000000   \n",
       "\n",
       "       previous_bookings_not_canceled  booking_changes  days_in_waiting_list  \\\n",
       "count                    50000.000000     50000.000000            50000.0000   \n",
       "mean                         0.202740         0.294960                1.5704   \n",
       "std                          1.803691         0.740006               14.7903   \n",
       "min                          0.000000         0.000000                0.0000   \n",
       "25%                          0.000000         0.000000                0.0000   \n",
       "50%                          0.000000         0.000000                0.0000   \n",
       "75%                          0.000000         0.000000                0.0000   \n",
       "max                         72.000000        21.000000              379.0000   \n",
       "\n",
       "       average_daily_rate  total_of_special_requests  \n",
       "count        50000.000000               50000.000000  \n",
       "mean            99.942342                   0.712660  \n",
       "std             49.039092                   0.833804  \n",
       "min             -6.380000                   0.000000  \n",
       "25%             67.500000                   0.000000  \n",
       "50%             92.500000                   1.000000  \n",
       "75%            125.000000                   1.000000  \n",
       "max            510.000000                   5.000000  "
      ]
     },
     "execution_count": 5,
     "metadata": {},
     "output_type": "execute_result"
    }
   ],
   "source": [
    "hotels.describe()"
   ]
  },
  {
   "cell_type": "code",
   "execution_count": 6,
   "metadata": {},
   "outputs": [
    {
     "data": {
      "text/plain": [
       "none        45962\n",
       "children     4038\n",
       "Name: children, dtype: int64"
      ]
     },
     "execution_count": 6,
     "metadata": {},
     "output_type": "execute_result"
    }
   ],
   "source": [
    "#First, check if the target is unbalanced\n",
    "hotels['children'].value_counts()"
   ]
  },
  {
   "cell_type": "markdown",
   "metadata": {
    "heading_collapsed": true
   },
   "source": [
    "## Nulls management"
   ]
  },
  {
   "cell_type": "code",
   "execution_count": 7,
   "metadata": {
    "hidden": true
   },
   "outputs": [
    {
     "data": {
      "text/plain": [
       "hotel                               0\n",
       "lead_time                           0\n",
       "stays_in_weekend_nights             0\n",
       "stays_in_week_nights                0\n",
       "adults                              0\n",
       "children                            0\n",
       "meal                                0\n",
       "country                           289\n",
       "market_segment                      0\n",
       "distribution_channel                0\n",
       "is_repeated_guest                   0\n",
       "previous_cancellations              0\n",
       "previous_bookings_not_canceled      0\n",
       "reserved_room_type                  0\n",
       "assigned_room_type                  0\n",
       "booking_changes                     0\n",
       "deposit_type                        0\n",
       "days_in_waiting_list                0\n",
       "customer_type                       0\n",
       "average_daily_rate                  0\n",
       "required_car_parking_spaces         0\n",
       "total_of_special_requests           0\n",
       "arrival_date                        0\n",
       "dtype: int64"
      ]
     },
     "execution_count": 7,
     "metadata": {},
     "output_type": "execute_result"
    }
   ],
   "source": [
    "#Check if exists any null\n",
    "hotels.isna().sum()"
   ]
  },
  {
   "cell_type": "code",
   "execution_count": 8,
   "metadata": {
    "hidden": true
   },
   "outputs": [
    {
     "data": {
      "text/plain": [
       "PRT    14046\n",
       "GBR     6405\n",
       "FRA     5627\n",
       "ESP     4298\n",
       "DEU     4047\n",
       "       ...  \n",
       "CYM        1\n",
       "PAN        1\n",
       "MDG        1\n",
       "LAO        1\n",
       "ATA        1\n",
       "Name: country, Length: 154, dtype: int64"
      ]
     },
     "execution_count": 8,
     "metadata": {},
     "output_type": "execute_result"
    }
   ],
   "source": [
    "#Check if I can fill nulls with mode\n",
    "hotels['country'].value_counts()"
   ]
  },
  {
   "cell_type": "code",
   "execution_count": 9,
   "metadata": {
    "hidden": true
   },
   "outputs": [],
   "source": [
    "# Another strategy: fill with \"No available\" o eq\n",
    "hotels['country'] = hotels['country'].fillna('PRT')"
   ]
  },
  {
   "cell_type": "markdown",
   "metadata": {},
   "source": [
    "## Cast"
   ]
  },
  {
   "cell_type": "code",
   "execution_count": null,
   "metadata": {},
   "outputs": [],
   "source": []
  },
  {
   "cell_type": "markdown",
   "metadata": {
    "heading_collapsed": true
   },
   "source": [
    "## Part II - Modeling\n",
    "\n",
    "We will build the best model to predict which actual hotel stays included children/babies, and which did not:"
   ]
  },
  {
   "cell_type": "code",
   "execution_count": 10,
   "metadata": {
    "hidden": true
   },
   "outputs": [],
   "source": [
    "#\n",
    "# Develop Machine/Statistical Learning models to predict the target variable...\n",
    "#"
   ]
  },
  {
   "cell_type": "markdown",
   "metadata": {},
   "source": [
    "## Part III - Results & Conclusions"
   ]
  },
  {
   "cell_type": "code",
   "execution_count": 11,
   "metadata": {},
   "outputs": [],
   "source": [
    "#\n",
    "# List your key insights / findings and conclusions...\n",
    "#"
   ]
  }
 ],
 "metadata": {
  "kernelspec": {
   "display_name": "Python 3 (ipykernel)",
   "language": "python",
   "name": "python3"
  },
  "language_info": {
   "codemirror_mode": {
    "name": "ipython",
    "version": 3
   },
   "file_extension": ".py",
   "mimetype": "text/x-python",
   "name": "python",
   "nbconvert_exporter": "python",
   "pygments_lexer": "ipython3",
   "version": "3.8.10"
  },
  "latex_envs": {
   "LaTeX_envs_menu_present": true,
   "autoclose": false,
   "autocomplete": true,
   "bibliofile": "biblio.bib",
   "cite_by": "apalike",
   "current_citInitial": 1,
   "eqLabelWithNumbers": true,
   "eqNumInitial": 1,
   "hotkeys": {
    "equation": "Ctrl-E",
    "itemize": "Ctrl-I"
   },
   "labels_anchors": false,
   "latex_user_defs": false,
   "report_style_numbering": false,
   "user_envs_cfg": false
  }
 },
 "nbformat": 4,
 "nbformat_minor": 4
}
